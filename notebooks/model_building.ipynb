{
 "cells": [
  {
   "cell_type": "code",
   "execution_count": 1,
   "metadata": {},
   "outputs": [],
   "source": [
    "import pandas as pd\n",
    "import matplotlib.pyplot as plt\n",
    "import seaborn as sns\n",
    "import statsmodels.api as sm"
   ]
  },
  {
   "cell_type": "code",
   "execution_count": 3,
   "metadata": {},
   "outputs": [],
   "source": [
    "# Importing the dfs\n",
    "file_path1 = r\"C:\\Users\\akash\\Desktop\\BootCamp\\Project_2\\Statistical-Modelling-with-Python-main\\data\\bike_station_info.csv\"\n",
    "file_path2 = r\"C:\\Users\\akash\\Desktop\\BootCamp\\Project_2\\Statistical-Modelling-with-Python-main\\data\\poi_info.csv\"\n",
    "file_path3 = r\"C:\\Users\\akash\\Desktop\\BootCamp\\Project_2\\Statistical-Modelling-with-Python-main\\data\\yelp_api.csv\"\n",
    "file_path4 = r\"C:\\Users\\akash\\Desktop\\BootCamp\\Project_2\\Statistical-Modelling-with-Python-main\\data\\foursquare_api.csv\"\n",
    "file_path5 = r\"C:\\Users\\akash\\Desktop\\BootCamp\\Project_2\\Statistical-Modelling-with-Python-main\\data\\bike_poi_info.csv\"\n",
    "\n",
    "# Read the CSV file into a DataFrame\n",
    "city_bike_df = pd.read_csv(file_path1)\n",
    "poi_df = pd.read_csv(file_path2)\n",
    "yelp_df = pd.read_csv(file_path3)\n",
    "foursquare_df = pd.read_csv(file_path4)\n",
    "bike_poi_df = pd.read_csv(file_path5)"
   ]
  },
  {
   "attachments": {},
   "cell_type": "markdown",
   "metadata": {},
   "source": [
    "### Build a regression model."
   ]
  },
  {
   "cell_type": "code",
   "execution_count": 5,
   "metadata": {},
   "outputs": [
    {
     "data": {
      "text/html": [
       "<div>\n",
       "<style scoped>\n",
       "    .dataframe tbody tr th:only-of-type {\n",
       "        vertical-align: middle;\n",
       "    }\n",
       "\n",
       "    .dataframe tbody tr th {\n",
       "        vertical-align: top;\n",
       "    }\n",
       "\n",
       "    .dataframe thead th {\n",
       "        text-align: right;\n",
       "    }\n",
       "</style>\n",
       "<table border=\"1\" class=\"dataframe\">\n",
       "  <thead>\n",
       "    <tr style=\"text-align: right;\">\n",
       "      <th></th>\n",
       "      <th>station_id</th>\n",
       "      <th>latitude_x</th>\n",
       "      <th>longitude_x</th>\n",
       "      <th>slots</th>\n",
       "      <th>empty_slots</th>\n",
       "      <th>free_bikes</th>\n",
       "      <th>name</th>\n",
       "      <th>latitude_y</th>\n",
       "      <th>longitude_y</th>\n",
       "      <th>yelp_rating</th>\n",
       "      <th>yelp_review</th>\n",
       "    </tr>\n",
       "  </thead>\n",
       "  <tbody>\n",
       "    <tr>\n",
       "      <th>0</th>\n",
       "      <td>b6903d788830595e054121e462598381</td>\n",
       "      <td>48.428023</td>\n",
       "      <td>-71.062506</td>\n",
       "      <td>7</td>\n",
       "      <td>4</td>\n",
       "      <td>2</td>\n",
       "      <td>Le Légendaire Restaurant Bar</td>\n",
       "      <td>48.410643</td>\n",
       "      <td>-71.053362</td>\n",
       "      <td>4.0</td>\n",
       "      <td>6</td>\n",
       "    </tr>\n",
       "    <tr>\n",
       "      <th>1</th>\n",
       "      <td>3aa299f4d3048ef94737bbf5fbc03825</td>\n",
       "      <td>48.404457</td>\n",
       "      <td>-71.058208</td>\n",
       "      <td>7</td>\n",
       "      <td>1</td>\n",
       "      <td>6</td>\n",
       "      <td>Boefish</td>\n",
       "      <td>48.405576</td>\n",
       "      <td>-71.057046</td>\n",
       "      <td>4.5</td>\n",
       "      <td>5</td>\n",
       "    </tr>\n",
       "    <tr>\n",
       "      <th>2</th>\n",
       "      <td>0b1c0c48e94fae24b1a38f4559a5985a</td>\n",
       "      <td>48.420480</td>\n",
       "      <td>-71.053380</td>\n",
       "      <td>7</td>\n",
       "      <td>5</td>\n",
       "      <td>2</td>\n",
       "      <td>Passion Café</td>\n",
       "      <td>48.409290</td>\n",
       "      <td>-71.054947</td>\n",
       "      <td>4.0</td>\n",
       "      <td>5</td>\n",
       "    </tr>\n",
       "    <tr>\n",
       "      <th>3</th>\n",
       "      <td>f450af93c8d0f5ae5de8ea7cb1aafe70</td>\n",
       "      <td>48.337230</td>\n",
       "      <td>-70.879564</td>\n",
       "      <td>7</td>\n",
       "      <td>5</td>\n",
       "      <td>2</td>\n",
       "      <td>Rôtisserie St-Hubert</td>\n",
       "      <td>48.413318</td>\n",
       "      <td>-71.049191</td>\n",
       "      <td>2.5</td>\n",
       "      <td>4</td>\n",
       "    </tr>\n",
       "    <tr>\n",
       "      <th>4</th>\n",
       "      <td>7ada5d893c40c9a46a54f771a392db6f</td>\n",
       "      <td>48.425119</td>\n",
       "      <td>-71.051336</td>\n",
       "      <td>7</td>\n",
       "      <td>5</td>\n",
       "      <td>2</td>\n",
       "      <td>Ben &amp; Florentine</td>\n",
       "      <td>48.403481</td>\n",
       "      <td>-71.054605</td>\n",
       "      <td>2.5</td>\n",
       "      <td>6</td>\n",
       "    </tr>\n",
       "  </tbody>\n",
       "</table>\n",
       "</div>"
      ],
      "text/plain": [
       "                         station_id  latitude_x  longitude_x  slots  \\\n",
       "0  b6903d788830595e054121e462598381   48.428023   -71.062506      7   \n",
       "1  3aa299f4d3048ef94737bbf5fbc03825   48.404457   -71.058208      7   \n",
       "2  0b1c0c48e94fae24b1a38f4559a5985a   48.420480   -71.053380      7   \n",
       "3  f450af93c8d0f5ae5de8ea7cb1aafe70   48.337230   -70.879564      7   \n",
       "4  7ada5d893c40c9a46a54f771a392db6f   48.425119   -71.051336      7   \n",
       "\n",
       "   empty_slots  free_bikes                          name  latitude_y  \\\n",
       "0            4           2  Le Légendaire Restaurant Bar   48.410643   \n",
       "1            1           6                       Boefish   48.405576   \n",
       "2            5           2                  Passion Café   48.409290   \n",
       "3            5           2          Rôtisserie St-Hubert   48.413318   \n",
       "4            5           2              Ben & Florentine   48.403481   \n",
       "\n",
       "   longitude_y  yelp_rating  yelp_review  \n",
       "0   -71.053362          4.0            6  \n",
       "1   -71.057046          4.5            5  \n",
       "2   -71.054947          4.0            5  \n",
       "3   -71.049191          2.5            4  \n",
       "4   -71.054605          2.5            6  "
      ]
     },
     "execution_count": 5,
     "metadata": {},
     "output_type": "execute_result"
    }
   ],
   "source": [
    "bike_poi_df.head()"
   ]
  },
  {
   "cell_type": "code",
   "execution_count": 6,
   "metadata": {},
   "outputs": [
    {
     "name": "stdout",
     "output_type": "stream",
     "text": [
      "                            OLS Regression Results                            \n",
      "==============================================================================\n",
      "Dep. Variable:            empty_slots   R-squared:                       0.961\n",
      "Model:                            OLS   Adj. R-squared:                  0.953\n",
      "Method:                 Least Squares   F-statistic:                     122.2\n",
      "Date:                Sun, 02 Jul 2023   Prob (F-statistic):           0.000105\n",
      "Time:                        20:04:50   Log-Likelihood:                -2.5204\n",
      "No. Observations:                   7   AIC:                             9.041\n",
      "Df Residuals:                       5   BIC:                             8.933\n",
      "Df Model:                           1                                         \n",
      "Covariance Type:            nonrobust                                         \n",
      "==============================================================================\n",
      "                 coef    std err          t      P>|t|      [0.025      0.975]\n",
      "------------------------------------------------------------------------------\n",
      "slots          0.9699      0.039     24.735      0.000       0.869       1.071\n",
      "free_bikes    -0.9737      0.088    -11.056      0.000      -1.200      -0.747\n",
      "==============================================================================\n",
      "Omnibus:                          nan   Durbin-Watson:                   0.980\n",
      "Prob(Omnibus):                    nan   Jarque-Bera (JB):                5.687\n",
      "Skew:                          -1.968   Prob(JB):                       0.0582\n",
      "Kurtosis:                       5.003   Cond. No.                         4.54\n",
      "==============================================================================\n",
      "\n",
      "Notes:\n",
      "[1] Standard Errors assume that the covariance matrix of the errors is correctly specified.\n"
     ]
    },
    {
     "name": "stderr",
     "output_type": "stream",
     "text": [
      "d:\\Software\\Anaconda\\envs\\bootcamp_env_1\\lib\\site-packages\\statsmodels\\stats\\stattools.py:74: ValueWarning: omni_normtest is not valid with less than 8 observations; 7 samples were given.\n",
      "  warn(\"omni_normtest is not valid with less than 8 observations; %i \"\n"
     ]
    }
   ],
   "source": [
    "# First I set our dependent and independant variables\n",
    "# Load the dataset\n",
    "data = bike_poi_df\n",
    "\n",
    "# Prepare the feature matrix X and target variable y\n",
    "X = data[['slots', 'free_bikes']]\n",
    "y = data['empty_slots']\n",
    "\n",
    "# Add a constant term to the feature matrix\n",
    "X = sm.add_constant(X)\n",
    "\n",
    "# Fit the regression model\n",
    "model = sm.OLS(y, X)\n",
    "results = model.fit()\n",
    "\n",
    "# Print the model summary\n",
    "print(results.summary())"
   ]
  },
  {
   "attachments": {},
   "cell_type": "markdown",
   "metadata": {},
   "source": [
    "Run the model a couple of time to get great fit."
   ]
  },
  {
   "attachments": {},
   "cell_type": "markdown",
   "metadata": {},
   "source": [
    "#### Provide model output and an interpretation of the results. "
   ]
  },
  {
   "attachments": {},
   "cell_type": "markdown",
   "metadata": {},
   "source": [
    "- The model has a high R-squared value of 0.961, indicating a strong fit between the independent variables and the dependent variable.\n",
    "- The coefficients show that 'slots' has a positive effect on the number of empty slots, while 'free_bikes' has a negative effect.\n",
    "- Both 'slots' and 'free_bikes' have statistically significant effects on the number of empty slots, as indicated by their low p-values.\n",
    "- The F-statistic of 122.2 suggests that the model as a whole is statistically significant.\n",
    "- The adjusted R-squared value of 0.953 indicates a good fit while considering the number of variables.\n",
    "- The standard errors provide a measure of uncertainty in the estimated coefficients.\n",
    "- The model suggests that 'slots' and 'free_bikes' are important predictors of the number of empty slots in the given context.\n",
    "\n",
    "[NOTE] The warning indicates that the statistical test being used, specifically the omnibus normality test, requires a minimum of 8 observations, but only 7 observations were provided in this case."
   ]
  },
  {
   "attachments": {},
   "cell_type": "markdown",
   "metadata": {},
   "source": [
    "# Stretch"
   ]
  },
  {
   "attachments": {},
   "cell_type": "markdown",
   "metadata": {},
   "source": [
    "How can you turn the regression model into a classification model?"
   ]
  },
  {
   "attachments": {},
   "cell_type": "markdown",
   "metadata": {},
   "source": [
    "- To convert the regression model into a classification model, I can apply a threshold to the predicted values, By setting a threshold, I can categorize the data into different classes based on whether the predicted value exceeds the threshold or not.\n",
    "- The threshold value is determined based on distance of the cycle to the stores or other pois or other specific requirements or characteristics of the problem at hand.\n",
    "- This approach allows me to classify new data points into appropriate classes based on their predicted values, making it suitable for classification tasks."
   ]
  }
 ],
 "metadata": {
  "kernelspec": {
   "display_name": "Python 3 (ipykernel)",
   "language": "python",
   "name": "python3"
  },
  "language_info": {
   "codemirror_mode": {
    "name": "ipython",
    "version": 3
   },
   "file_extension": ".py",
   "mimetype": "text/x-python",
   "name": "python",
   "nbconvert_exporter": "python",
   "pygments_lexer": "ipython3",
   "version": "3.10.9"
  }
 },
 "nbformat": 4,
 "nbformat_minor": 4
}
